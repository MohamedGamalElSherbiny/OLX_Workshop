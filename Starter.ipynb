{
 "cells": [
  {
   "cell_type": "code",
   "execution_count": 1,
   "id": "e8b7c3d6",
   "metadata": {},
   "outputs": [],
   "source": [
    "import numpy as np\n",
    "import pandas as pd\n",
    "import matplotlib.pyplot as plt\n",
    "import seaborn as sn"
   ]
  },
  {
   "cell_type": "code",
   "execution_count": 2,
   "id": "554b9cb6",
   "metadata": {},
   "outputs": [
    {
     "name": "stderr",
     "output_type": "stream",
     "text": [
      "/var/folders/0r/38zgwmn509g5tw2j4r44w93m0000gn/T/ipykernel_84339/511793316.py:1: DtypeWarning: Columns (88,90,95,116) have mixed types. Specify dtype option on import or set low_memory=False.\n",
      "  df = pd.read_csv(\"ads_dataset_vehicles_2022-03-22 17 02 03.csv\")\n"
     ]
    }
   ],
   "source": [
    "df = pd.read_csv(\"ads_dataset_vehicles_2022-03-22 17 02 03.csv\")"
   ]
  },
  {
   "cell_type": "code",
   "execution_count": 3,
   "id": "2e83a201",
   "metadata": {},
   "outputs": [
    {
     "data": {
      "text/plain": [
       "(22412, 150)"
      ]
     },
     "execution_count": 3,
     "metadata": {},
     "output_type": "execute_result"
    }
   ],
   "source": [
    "df.shape"
   ]
  },
  {
   "cell_type": "markdown",
   "id": "c2a07443",
   "metadata": {},
   "source": [
    "# Dropped Columns:\n",
    "\n",
    "1- Unnamed: Represents the number of rows.\n",
    "\n",
    "2- 3d_tour_link: Is all Nan.\n",
    "\n",
    "3- agent_code: Represents a code for each agent, which won't be much of use for analysis, and can be obtained from other columns.\n",
    "\n",
    "4- breadcrumb**: Summary of the advertisment.\n",
    "\n",
    "5- visible_in_profile: All are ones.\n",
    "\n",
    "6- badges: Available for delivery which can be obtained from a different column.\n",
    "\n",
    "7- param_extra_features: A list of the params but in a list so its better to use the real names\n",
    "\n",
    "8- category_name_short_list_ar: Manufacturer of the car but in Arabic.\n",
    "\n",
    "9- url**: Url link for the ad.\n",
    "\n",
    "10- city_label_ar == city_label_full_ar: City label in Arabic.\n",
    "\n",
    "11- title_list: Same as Title.\n",
    "\n",
    "12- subtitle**: An empty list.\n",
    "\n",
    "13- city_label_full_en: Same as city_label_en"
   ]
  },
  {
   "cell_type": "code",
   "execution_count": 4,
   "id": "466a6d62",
   "metadata": {},
   "outputs": [],
   "source": [
    "df = df.drop(columns=['Unnamed: 0', '3d_tour_link', 'agent_code',\n",
    "                      'breadcrumb_ar', 'breadcrumb_en', 'breadcrumb_nocity_ar',\n",
    "                      'visible_in_profile', 'badges', 'param_extra_features',\n",
    "                      'category_name_short_list_ar', 'breadcrumb_nocity_en', 'url_i2_ar',\n",
    "                      'url_i2_en', 'user_id', 'valid_to', 'cache_date', 'url', 'url_ar', 'url_en', 'url_i2',\n",
    "                      'city_label_ar', 'title_list', 'city_label_full_ar', 'subtitle_en', 'subtitle_ar',\n",
    "                      'city_label_full_en'])"
   ]
  },
  {
   "cell_type": "code",
   "execution_count": 5,
   "id": "759a7b05",
   "metadata": {},
   "outputs": [
    {
     "data": {
      "text/html": [
       "<div>\n",
       "<style scoped>\n",
       "    .dataframe tbody tr th:only-of-type {\n",
       "        vertical-align: middle;\n",
       "    }\n",
       "\n",
       "    .dataframe tbody tr th {\n",
       "        vertical-align: top;\n",
       "    }\n",
       "\n",
       "    .dataframe thead th {\n",
       "        text-align: right;\n",
       "    }\n",
       "</style>\n",
       "<table border=\"1\" class=\"dataframe\">\n",
       "  <thead>\n",
       "    <tr style=\"text-align: right;\">\n",
       "      <th></th>\n",
       "      <th>ad_price</th>\n",
       "      <th>added_by_mobile</th>\n",
       "      <th>available_for_delivery</th>\n",
       "      <th>cache_source</th>\n",
       "      <th>category_id</th>\n",
       "      <th>category_name_short_list_en</th>\n",
       "      <th>city_group_id</th>\n",
       "      <th>city_id</th>\n",
       "      <th>city_label_en</th>\n",
       "      <th>contactform</th>\n",
       "      <th>...</th>\n",
       "      <th>subregion_id</th>\n",
       "      <th>tax_reg_num</th>\n",
       "      <th>title</th>\n",
       "      <th>tracking</th>\n",
       "      <th>views_count</th>\n",
       "      <th>param_rental_option</th>\n",
       "      <th>param_rental_period</th>\n",
       "      <th>param_type</th>\n",
       "      <th>param_engine_capacity</th>\n",
       "      <th>param_make</th>\n",
       "    </tr>\n",
       "  </thead>\n",
       "  <tbody>\n",
       "    <tr>\n",
       "      <th>0</th>\n",
       "      <td>1700000</td>\n",
       "      <td>1.0</td>\n",
       "      <td>0.0</td>\n",
       "      <td>0.0</td>\n",
       "      <td>57</td>\n",
       "      <td>BMW</td>\n",
       "      <td>0.0</td>\n",
       "      <td>288</td>\n",
       "      <td>New Cairo - El Tagamoa</td>\n",
       "      <td>0</td>\n",
       "      <td>...</td>\n",
       "      <td>5</td>\n",
       "      <td>NaN</td>\n",
       "      <td>Bmw 740li 2019</td>\n",
       "      <td>{'category_l1_id': '129', 'category_l1_name': ...</td>\n",
       "      <td>4098.0</td>\n",
       "      <td>NaN</td>\n",
       "      <td>NaN</td>\n",
       "      <td>NaN</td>\n",
       "      <td>NaN</td>\n",
       "      <td>NaN</td>\n",
       "    </tr>\n",
       "    <tr>\n",
       "      <th>1</th>\n",
       "      <td>460000</td>\n",
       "      <td>1.0</td>\n",
       "      <td>0.0</td>\n",
       "      <td>0.0</td>\n",
       "      <td>57</td>\n",
       "      <td>BMW</td>\n",
       "      <td>0.0</td>\n",
       "      <td>288</td>\n",
       "      <td>New Cairo - El Tagamoa</td>\n",
       "      <td>0</td>\n",
       "      <td>...</td>\n",
       "      <td>5</td>\n",
       "      <td>NaN</td>\n",
       "      <td>318i Luxury Line model 2017 very light use</td>\n",
       "      <td>{'category_l1_id': '129', 'category_l1_name': ...</td>\n",
       "      <td>5419.0</td>\n",
       "      <td>NaN</td>\n",
       "      <td>NaN</td>\n",
       "      <td>NaN</td>\n",
       "      <td>NaN</td>\n",
       "      <td>NaN</td>\n",
       "    </tr>\n",
       "    <tr>\n",
       "      <th>2</th>\n",
       "      <td>47000</td>\n",
       "      <td>0.0</td>\n",
       "      <td>0.0</td>\n",
       "      <td>0.0</td>\n",
       "      <td>66</td>\n",
       "      <td>Nissan</td>\n",
       "      <td>0.0</td>\n",
       "      <td>212</td>\n",
       "      <td>Haram</td>\n",
       "      <td>1</td>\n",
       "      <td>...</td>\n",
       "      <td>68</td>\n",
       "      <td>455441537.0</td>\n",
       "      <td>نيسان صني 2022 nissan sunny</td>\n",
       "      <td>{'category_l1_id': '129', 'category_l1_name': ...</td>\n",
       "      <td>549.0</td>\n",
       "      <td>NaN</td>\n",
       "      <td>NaN</td>\n",
       "      <td>NaN</td>\n",
       "      <td>NaN</td>\n",
       "      <td>NaN</td>\n",
       "    </tr>\n",
       "    <tr>\n",
       "      <th>3</th>\n",
       "      <td>55000</td>\n",
       "      <td>0.0</td>\n",
       "      <td>0.0</td>\n",
       "      <td>0.0</td>\n",
       "      <td>133</td>\n",
       "      <td>BYD</td>\n",
       "      <td>0.0</td>\n",
       "      <td>205</td>\n",
       "      <td>Sheikh Zayed</td>\n",
       "      <td>1</td>\n",
       "      <td>...</td>\n",
       "      <td>68</td>\n",
       "      <td>NaN</td>\n",
       "      <td>من الكموني للسيارات _ BYD L3 ٢٠٢٢ بأقل مقدم ٥٥٠٠٠</td>\n",
       "      <td>{'category_l1_id': '129', 'category_l1_name': ...</td>\n",
       "      <td>3497.0</td>\n",
       "      <td>NaN</td>\n",
       "      <td>NaN</td>\n",
       "      <td>NaN</td>\n",
       "      <td>NaN</td>\n",
       "      <td>NaN</td>\n",
       "    </tr>\n",
       "    <tr>\n",
       "      <th>4</th>\n",
       "      <td>185000</td>\n",
       "      <td>1.0</td>\n",
       "      <td>0.0</td>\n",
       "      <td>0.0</td>\n",
       "      <td>76</td>\n",
       "      <td>Mitsubishi</td>\n",
       "      <td>0.0</td>\n",
       "      <td>263</td>\n",
       "      <td>Heliopolis</td>\n",
       "      <td>1</td>\n",
       "      <td>...</td>\n",
       "      <td>5</td>\n",
       "      <td>NaN</td>\n",
       "      <td>لانسر حاله ممتازه رخصه سنه مصر الجديدة</td>\n",
       "      <td>{'category_l1_id': '129', 'category_l1_name': ...</td>\n",
       "      <td>13082.0</td>\n",
       "      <td>NaN</td>\n",
       "      <td>NaN</td>\n",
       "      <td>NaN</td>\n",
       "      <td>NaN</td>\n",
       "      <td>NaN</td>\n",
       "    </tr>\n",
       "  </tbody>\n",
       "</table>\n",
       "<p>5 rows × 124 columns</p>\n",
       "</div>"
      ],
      "text/plain": [
       "   ad_price  added_by_mobile  available_for_delivery cache_source  \\\n",
       "0   1700000              1.0                     0.0          0.0   \n",
       "1    460000              1.0                     0.0          0.0   \n",
       "2     47000              0.0                     0.0          0.0   \n",
       "3     55000              0.0                     0.0          0.0   \n",
       "4    185000              1.0                     0.0          0.0   \n",
       "\n",
       "   category_id category_name_short_list_en  city_group_id  city_id  \\\n",
       "0           57                         BMW            0.0      288   \n",
       "1           57                         BMW            0.0      288   \n",
       "2           66                      Nissan            0.0      212   \n",
       "3          133                         BYD            0.0      205   \n",
       "4           76                  Mitsubishi            0.0      263   \n",
       "\n",
       "            city_label_en  contactform  ... subregion_id  tax_reg_num  \\\n",
       "0  New Cairo - El Tagamoa            0  ...            5          NaN   \n",
       "1  New Cairo - El Tagamoa            0  ...            5          NaN   \n",
       "2                   Haram            1  ...           68  455441537.0   \n",
       "3            Sheikh Zayed            1  ...           68          NaN   \n",
       "4              Heliopolis            1  ...            5          NaN   \n",
       "\n",
       "                                               title  \\\n",
       "0                                     Bmw 740li 2019   \n",
       "1         318i Luxury Line model 2017 very light use   \n",
       "2                        نيسان صني 2022 nissan sunny   \n",
       "3  من الكموني للسيارات _ BYD L3 ٢٠٢٢ بأقل مقدم ٥٥٠٠٠   \n",
       "4             لانسر حاله ممتازه رخصه سنه مصر الجديدة   \n",
       "\n",
       "                                            tracking  views_count  \\\n",
       "0  {'category_l1_id': '129', 'category_l1_name': ...       4098.0   \n",
       "1  {'category_l1_id': '129', 'category_l1_name': ...       5419.0   \n",
       "2  {'category_l1_id': '129', 'category_l1_name': ...        549.0   \n",
       "3  {'category_l1_id': '129', 'category_l1_name': ...       3497.0   \n",
       "4  {'category_l1_id': '129', 'category_l1_name': ...      13082.0   \n",
       "\n",
       "   param_rental_option  param_rental_period  param_type  \\\n",
       "0                  NaN                  NaN         NaN   \n",
       "1                  NaN                  NaN         NaN   \n",
       "2                  NaN                  NaN         NaN   \n",
       "3                  NaN                  NaN         NaN   \n",
       "4                  NaN                  NaN         NaN   \n",
       "\n",
       "   param_engine_capacity  param_make  \n",
       "0                    NaN         NaN  \n",
       "1                    NaN         NaN  \n",
       "2                    NaN         NaN  \n",
       "3                    NaN         NaN  \n",
       "4                    NaN         NaN  \n",
       "\n",
       "[5 rows x 124 columns]"
      ]
     },
     "execution_count": 5,
     "metadata": {},
     "output_type": "execute_result"
    }
   ],
   "source": [
    "df.head()"
   ]
  },
  {
   "cell_type": "code",
   "execution_count": 10,
   "id": "b93db867",
   "metadata": {},
   "outputs": [],
   "source": [
    "lst = list(df.columns)"
   ]
  },
  {
   "cell_type": "code",
   "execution_count": 12,
   "id": "a27fa1a9",
   "metadata": {},
   "outputs": [
    {
     "data": {
      "text/plain": [
       "Index(['ad_price', 'added_by_mobile', 'available_for_delivery', 'cache_source',\n",
       "       'category_id', 'category_name_short_list_en', 'city_group_id',\n",
       "       'city_id', 'city_label_en', 'contactform',\n",
       "       ...\n",
       "       'subregion_id', 'tax_reg_num', 'title', 'tracking', 'views_count',\n",
       "       'param_rental_option', 'param_rental_period', 'param_type',\n",
       "       'param_engine_capacity', 'param_make'],\n",
       "      dtype='object', length=124)"
      ]
     },
     "execution_count": 12,
     "metadata": {},
     "output_type": "execute_result"
    }
   ],
   "source": [
    "df.columns"
   ]
  },
  {
   "cell_type": "code",
   "execution_count": 15,
   "id": "9bbaaf02",
   "metadata": {},
   "outputs": [
    {
     "data": {
      "text/plain": [
       "'created_at_first'"
      ]
     },
     "execution_count": 15,
     "metadata": {},
     "output_type": "execute_result"
    }
   ],
   "source": [
    "lst[11]"
   ]
  },
  {
   "cell_type": "code",
   "execution_count": 7,
   "id": "4996e87e",
   "metadata": {},
   "outputs": [
    {
     "data": {
      "text/plain": [
       "0    17003\n",
       "1     4642\n",
       "2      767\n",
       "Name: contactform, dtype: int64"
      ]
     },
     "execution_count": 7,
     "metadata": {},
     "output_type": "execute_result"
    }
   ],
   "source": [
    "df.contactform.value_counts()"
   ]
  },
  {
   "cell_type": "code",
   "execution_count": 8,
   "id": "aab8d7ec",
   "metadata": {},
   "outputs": [
    {
     "data": {
      "text/plain": [
       "0"
      ]
     },
     "execution_count": 8,
     "metadata": {},
     "output_type": "execute_result"
    }
   ],
   "source": [
    "df.contactform.isna().sum()"
   ]
  },
  {
   "cell_type": "code",
   "execution_count": null,
   "id": "39e203d3",
   "metadata": {},
   "outputs": [],
   "source": []
  }
 ],
 "metadata": {
  "kernelspec": {
   "display_name": "Python 3 (ipykernel)",
   "language": "python",
   "name": "python3"
  },
  "language_info": {
   "codemirror_mode": {
    "name": "ipython",
    "version": 3
   },
   "file_extension": ".py",
   "mimetype": "text/x-python",
   "name": "python",
   "nbconvert_exporter": "python",
   "pygments_lexer": "ipython3",
   "version": "3.8.12"
  }
 },
 "nbformat": 4,
 "nbformat_minor": 5
}
